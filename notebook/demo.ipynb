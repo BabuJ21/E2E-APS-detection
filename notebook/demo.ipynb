{
 "cells": [
  {
   "cell_type": "markdown",
   "metadata": {},
   "source": [
    "# Rough Notebook"
   ]
  },
  {
   "cell_type": "markdown",
   "metadata": {},
   "source": [
    "### Decorators dataclass "
   ]
  },
  {
   "cell_type": "code",
   "execution_count": 5,
   "metadata": {},
   "outputs": [],
   "source": [
    "from dataclasses import dataclass"
   ]
  },
  {
   "cell_type": "code",
   "execution_count": 6,
   "metadata": {},
   "outputs": [],
   "source": [
    "@dataclass\n",
    "class Employee:\n",
    "    emp_name:str\n",
    "    age:int"
   ]
  },
  {
   "cell_type": "code",
   "execution_count": 7,
   "metadata": {},
   "outputs": [],
   "source": [
    "a = Employee(\"Babu\",12)"
   ]
  },
  {
   "cell_type": "code",
   "execution_count": 8,
   "metadata": {},
   "outputs": [
    {
     "data": {
      "text/plain": [
       "'Babu'"
      ]
     },
     "execution_count": 8,
     "metadata": {},
     "output_type": "execute_result"
    }
   ],
   "source": [
    "a.emp_name"
   ]
  },
  {
   "cell_type": "code",
   "execution_count": 9,
   "metadata": {},
   "outputs": [
    {
     "data": {
      "text/plain": [
       "12"
      ]
     },
     "execution_count": 9,
     "metadata": {},
     "output_type": "execute_result"
    }
   ],
   "source": [
    "a.age"
   ]
  },
  {
   "cell_type": "code",
   "execution_count": 16,
   "metadata": {},
   "outputs": [],
   "source": [
    "## without dataclass decorators\n",
    "\n",
    "class Employee:\n",
    "\n",
    "    def __init__(self, emp_name,age):\n",
    "        self.emp_name = emp_name\n",
    "        self.age = age"
   ]
  },
  {
   "cell_type": "code",
   "execution_count": 17,
   "metadata": {},
   "outputs": [],
   "source": [
    "emp = Employee(\"Asdf\",25)"
   ]
  },
  {
   "cell_type": "code",
   "execution_count": 18,
   "metadata": {},
   "outputs": [
    {
     "data": {
      "text/plain": [
       "25"
      ]
     },
     "execution_count": 18,
     "metadata": {},
     "output_type": "execute_result"
    }
   ],
   "source": [
    "emp.age"
   ]
  },
  {
   "cell_type": "code",
   "execution_count": 20,
   "metadata": {},
   "outputs": [
    {
     "data": {
      "text/plain": [
       "'Asdf'"
      ]
     },
     "execution_count": 20,
     "metadata": {},
     "output_type": "execute_result"
    }
   ],
   "source": [
    "emp.emp_name"
   ]
  },
  {
   "cell_type": "code",
   "execution_count": null,
   "metadata": {},
   "outputs": [],
   "source": []
  },
  {
   "cell_type": "markdown",
   "metadata": {},
   "source": [
    "#### Validation of the dataset"
   ]
  },
  {
   "cell_type": "code",
   "execution_count": 4,
   "metadata": {},
   "outputs": [
    {
     "data": {
      "text/plain": [
       "KstestResult(statistic=0.5363636363636364, pvalue=2.3423551125504076e-14, statistic_location=-0.03091401431867575, statistic_sign=-1)"
      ]
     },
     "execution_count": 4,
     "metadata": {},
     "output_type": "execute_result"
    }
   ],
   "source": [
    "## scipy two sample test \n",
    "\n",
    "import numpy as np\n",
    "from scipy import stats\n",
    "rng = np.random.default_rng()\n",
    "sample1 = stats.uniform.rvs(size=100, random_state=rng)\n",
    "sample2 = stats.norm.rvs(size=110, random_state=rng)\n",
    "stats.ks_2samp(sample1, sample2)"
   ]
  },
  {
   "cell_type": "code",
   "execution_count": 5,
   "metadata": {},
   "outputs": [],
   "source": [
    "response = stats.ks_2samp(sample1, sample2)"
   ]
  },
  {
   "cell_type": "code",
   "execution_count": 7,
   "metadata": {},
   "outputs": [
    {
     "data": {
      "text/plain": [
       "array([0.68633177, 0.70361322, 0.13278823, 0.29015789, 0.51853521,\n",
       "       0.6962124 , 0.15164493, 0.3617531 , 0.97283874, 0.85743217,\n",
       "       0.57781405, 0.46714398, 0.81242128, 0.23270663, 0.76416593,\n",
       "       0.67517947, 0.30703366, 0.57246714, 0.11830048, 0.90956494,\n",
       "       0.0647784 , 0.80749011, 0.12765758, 0.9648749 , 0.9030387 ,\n",
       "       0.56754049, 0.05556402, 0.85891154, 0.94347921, 0.6635037 ,\n",
       "       0.39384422, 0.67221995, 0.35531801, 0.9650045 , 0.75848991,\n",
       "       0.95405031, 0.04783783, 0.44543901, 0.7758247 , 0.31189101,\n",
       "       0.62335255, 0.49875064, 0.18953931, 0.39339595, 0.9537021 ,\n",
       "       0.37631802, 0.85281734, 0.88697533, 0.51873852, 0.49859727,\n",
       "       0.53033887, 0.20285821, 0.35481392, 0.83460927, 0.80574773,\n",
       "       0.13917706, 0.93141193, 0.62410456, 0.39581696, 0.52359025,\n",
       "       0.66388723, 0.04599571, 0.82786747, 0.37307525, 0.80912708,\n",
       "       0.01390259, 0.88130363, 0.03827445, 0.84671398, 0.87606528,\n",
       "       0.49035984, 0.24615358, 0.48799165, 0.47338476, 0.55945125,\n",
       "       0.87025921, 0.6271402 , 0.22984435, 0.79202945, 0.81418767,\n",
       "       0.57482146, 0.54010308, 0.68909091, 0.0035678 , 0.32501411,\n",
       "       0.20239446, 0.66814181, 0.24348548, 0.49701562, 0.41558217,\n",
       "       0.57623467, 0.03144561, 0.66673646, 0.62773719, 0.03750126,\n",
       "       0.94580186, 0.07577474, 0.72118251, 0.20040067, 0.49429548])"
      ]
     },
     "execution_count": 7,
     "metadata": {},
     "output_type": "execute_result"
    }
   ],
   "source": [
    "sample1"
   ]
  },
  {
   "cell_type": "code",
   "execution_count": 8,
   "metadata": {},
   "outputs": [
    {
     "data": {
      "text/plain": [
       "array([ 0.22217429, -2.76565456, -2.19362458, -0.33319926, -0.52126525,\n",
       "        0.66845921,  0.174307  , -0.56213611, -1.64366456,  0.5857108 ,\n",
       "       -0.65471527, -0.31402931, -1.7168178 ,  0.12745011, -0.69795296,\n",
       "        0.64583299, -1.13988095,  1.24656052,  0.18113274, -0.73913573,\n",
       "        0.08303328, -0.41214629, -0.1243885 , -1.5463502 ,  0.51299208,\n",
       "        0.83161308, -0.27741058,  0.08251558, -0.48827081,  0.77178433,\n",
       "       -0.09310436,  0.40572914, -1.90615484,  0.15691326, -1.78809178,\n",
       "        1.00646524,  0.46335775,  0.07208972, -0.8542301 ,  1.1016416 ,\n",
       "       -0.44323201, -1.54234282, -0.07329968, -0.8273601 ,  0.22021712,\n",
       "       -1.26737175, -0.66351197, -1.59841176,  2.13405192,  0.07930481,\n",
       "       -1.05035115, -1.020334  , -0.31078643, -0.98758896, -1.81903959,\n",
       "       -0.54355221, -0.34559579,  0.84958326, -0.50059314,  1.09427332,\n",
       "       -0.16061009, -1.07654316,  2.41074474,  1.09496385,  1.35187847,\n",
       "       -0.65136067,  1.61021324,  0.13097849,  0.96486535, -0.2187382 ,\n",
       "        0.15295592,  1.7564032 ,  0.80120451,  2.2235447 , -1.54820922,\n",
       "       -0.7133804 ,  0.93127397,  0.365131  , -2.05686252,  0.83687515,\n",
       "       -0.03091401,  1.91828346,  0.69645151, -0.37684382,  0.02183942,\n",
       "        1.69567142,  0.10560742,  0.66103314, -0.5874258 ,  0.51787544,\n",
       "       -0.18720472, -0.18352777, -0.19655976, -0.594052  ,  0.80908667,\n",
       "       -0.63167959, -0.56627937,  1.31626146,  1.12318839, -0.61846714,\n",
       "        0.28556888, -0.69236802, -0.73051201,  1.76450638,  0.17220374,\n",
       "        0.85707439, -0.23201195, -0.66853523, -0.44174951, -1.8325766 ])"
      ]
     },
     "execution_count": 8,
     "metadata": {},
     "output_type": "execute_result"
    }
   ],
   "source": [
    "sample2"
   ]
  },
  {
   "cell_type": "code",
   "execution_count": 6,
   "metadata": {},
   "outputs": [
    {
     "data": {
      "text/plain": [
       "2.3423551125504076e-14"
      ]
     },
     "execution_count": 6,
     "metadata": {},
     "output_type": "execute_result"
    }
   ],
   "source": [
    "response.pvalue"
   ]
  },
  {
   "cell_type": "code",
   "execution_count": 9,
   "metadata": {},
   "outputs": [
    {
     "data": {
      "text/plain": [
       "KstestResult(statistic=0.5363636363636364, pvalue=2.3423551125504076e-14, statistic_location=-0.03091401431867575, statistic_sign=-1)"
      ]
     },
     "execution_count": 9,
     "metadata": {},
     "output_type": "execute_result"
    }
   ],
   "source": [
    "response"
   ]
  },
  {
   "cell_type": "code",
   "execution_count": 14,
   "metadata": {},
   "outputs": [
    {
     "data": {
      "text/plain": [
       "0.0"
      ]
     },
     "execution_count": 14,
     "metadata": {},
     "output_type": "execute_result"
    }
   ],
   "source": [
    "np.round(response.pvalue,13)"
   ]
  },
  {
   "cell_type": "code",
   "execution_count": 15,
   "metadata": {},
   "outputs": [],
   "source": [
    "## If p-value is greater than 0.05 then distributions are identical(Satisfies null hypothesis)\n",
    "## If p-value is less than 0.05 then distributions are not identical(Alternate hypothesis)\n",
    "\n",
    "## If p-value is less than 0.05, then we need to go for re-training our model"
   ]
  },
  {
   "cell_type": "code",
   "execution_count": 16,
   "metadata": {},
   "outputs": [
    {
     "data": {
      "text/plain": [
       "KstestResult(statistic=0.1318295739348371, pvalue=0.31549027714281025, statistic_location=0.8603005273812508, statistic_sign=-1)"
      ]
     },
     "execution_count": 16,
     "metadata": {},
     "output_type": "execute_result"
    }
   ],
   "source": [
    "sample1 = stats.norm.rvs(size=105, random_state=rng)\n",
    "sample2 = stats.norm.rvs(size=95, random_state=rng)\n",
    "stats.ks_2samp(sample1, sample2)"
   ]
  },
  {
   "cell_type": "code",
   "execution_count": null,
   "metadata": {},
   "outputs": [],
   "source": [
    "## Anamoly in dataset\n",
    "\n",
    "# 1. High Null value\n",
    "# 2. Missing columns\n",
    "# 3. Outlier\n",
    "# 4. Categorical:\n",
    "    ## Gender ---> Male, Female, Other\n",
    "\n",
    "\n",
    "## If distribution/relation of input and target gets changed during EDA and after model build in reality \n",
    "# --> CONCEPT DRIFT\n",
    "\n"
   ]
  }
 ],
 "metadata": {
  "kernelspec": {
   "display_name": "Python 3.8.10 64-bit",
   "language": "python",
   "name": "python3"
  },
  "language_info": {
   "codemirror_mode": {
    "name": "ipython",
    "version": 3
   },
   "file_extension": ".py",
   "mimetype": "text/x-python",
   "name": "python",
   "nbconvert_exporter": "python",
   "pygments_lexer": "ipython3",
   "version": "3.8.10"
  },
  "orig_nbformat": 4,
  "vscode": {
   "interpreter": {
    "hash": "e7370f93d1d0cde622a1f8e1c04877d8463912d04d973331ad4851f04de6915a"
   }
  }
 },
 "nbformat": 4,
 "nbformat_minor": 2
}
