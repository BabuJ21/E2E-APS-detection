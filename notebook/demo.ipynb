{
 "cells": [
  {
   "cell_type": "markdown",
   "metadata": {},
   "source": [
    "# Rough Notebook"
   ]
  },
  {
   "cell_type": "markdown",
   "metadata": {},
   "source": [
    "### Decorators dataclass "
   ]
  },
  {
   "cell_type": "code",
   "execution_count": 5,
   "metadata": {},
   "outputs": [],
   "source": [
    "from dataclasses import dataclass"
   ]
  },
  {
   "cell_type": "code",
   "execution_count": 6,
   "metadata": {},
   "outputs": [],
   "source": [
    "@dataclass\n",
    "class Employee:\n",
    "    emp_name:str\n",
    "    age:int"
   ]
  },
  {
   "cell_type": "code",
   "execution_count": 7,
   "metadata": {},
   "outputs": [],
   "source": [
    "a = Employee(\"Babu\",12)"
   ]
  },
  {
   "cell_type": "code",
   "execution_count": 8,
   "metadata": {},
   "outputs": [
    {
     "data": {
      "text/plain": [
       "'Babu'"
      ]
     },
     "execution_count": 8,
     "metadata": {},
     "output_type": "execute_result"
    }
   ],
   "source": [
    "a.emp_name"
   ]
  },
  {
   "cell_type": "code",
   "execution_count": 9,
   "metadata": {},
   "outputs": [
    {
     "data": {
      "text/plain": [
       "12"
      ]
     },
     "execution_count": 9,
     "metadata": {},
     "output_type": "execute_result"
    }
   ],
   "source": [
    "a.age"
   ]
  },
  {
   "cell_type": "code",
   "execution_count": 16,
   "metadata": {},
   "outputs": [],
   "source": [
    "## without dataclass decorators\n",
    "\n",
    "class Employee:\n",
    "\n",
    "    def __init__(self, emp_name,age):\n",
    "        self.emp_name = emp_name\n",
    "        self.age = age"
   ]
  },
  {
   "cell_type": "code",
   "execution_count": 17,
   "metadata": {},
   "outputs": [],
   "source": [
    "emp = Employee(\"Asdf\",25)"
   ]
  },
  {
   "cell_type": "code",
   "execution_count": 18,
   "metadata": {},
   "outputs": [
    {
     "data": {
      "text/plain": [
       "25"
      ]
     },
     "execution_count": 18,
     "metadata": {},
     "output_type": "execute_result"
    }
   ],
   "source": [
    "emp.age"
   ]
  },
  {
   "cell_type": "code",
   "execution_count": 20,
   "metadata": {},
   "outputs": [
    {
     "data": {
      "text/plain": [
       "'Asdf'"
      ]
     },
     "execution_count": 20,
     "metadata": {},
     "output_type": "execute_result"
    }
   ],
   "source": [
    "emp.emp_name"
   ]
  },
  {
   "cell_type": "code",
   "execution_count": null,
   "metadata": {},
   "outputs": [],
   "source": []
  },
  {
   "cell_type": "markdown",
   "metadata": {},
   "source": [
    "#### Validation of the dataset"
   ]
  },
  {
   "cell_type": "code",
   "execution_count": 4,
   "metadata": {},
   "outputs": [
    {
     "data": {
      "text/plain": [
       "KstestResult(statistic=0.5363636363636364, pvalue=2.3423551125504076e-14, statistic_location=-0.03091401431867575, statistic_sign=-1)"
      ]
     },
     "execution_count": 4,
     "metadata": {},
     "output_type": "execute_result"
    }
   ],
   "source": [
    "## scipy two sample test \n",
    "\n",
    "import numpy as np\n",
    "from scipy import stats\n",
    "rng = np.random.default_rng()\n",
    "sample1 = stats.uniform.rvs(size=100, random_state=rng)\n",
    "sample2 = stats.norm.rvs(size=110, random_state=rng)\n",
    "stats.ks_2samp(sample1, sample2)"
   ]
  },
  {
   "cell_type": "code",
   "execution_count": 5,
   "metadata": {},
   "outputs": [],
   "source": [
    "response = stats.ks_2samp(sample1, sample2)"
   ]
  },
  {
   "cell_type": "code",
   "execution_count": 7,
   "metadata": {},
   "outputs": [
    {
     "data": {
      "text/plain": [
       "array([0.68633177, 0.70361322, 0.13278823, 0.29015789, 0.51853521,\n",
       "       0.6962124 , 0.15164493, 0.3617531 , 0.97283874, 0.85743217,\n",
       "       0.57781405, 0.46714398, 0.81242128, 0.23270663, 0.76416593,\n",
       "       0.67517947, 0.30703366, 0.57246714, 0.11830048, 0.90956494,\n",
       "       0.0647784 , 0.80749011, 0.12765758, 0.9648749 , 0.9030387 ,\n",
       "       0.56754049, 0.05556402, 0.85891154, 0.94347921, 0.6635037 ,\n",
       "       0.39384422, 0.67221995, 0.35531801, 0.9650045 , 0.75848991,\n",
       "       0.95405031, 0.04783783, 0.44543901, 0.7758247 , 0.31189101,\n",
       "       0.62335255, 0.49875064, 0.18953931, 0.39339595, 0.9537021 ,\n",
       "       0.37631802, 0.85281734, 0.88697533, 0.51873852, 0.49859727,\n",
       "       0.53033887, 0.20285821, 0.35481392, 0.83460927, 0.80574773,\n",
       "       0.13917706, 0.93141193, 0.62410456, 0.39581696, 0.52359025,\n",
       "       0.66388723, 0.04599571, 0.82786747, 0.37307525, 0.80912708,\n",
       "       0.01390259, 0.88130363, 0.03827445, 0.84671398, 0.87606528,\n",
       "       0.49035984, 0.24615358, 0.48799165, 0.47338476, 0.55945125,\n",
       "       0.87025921, 0.6271402 , 0.22984435, 0.79202945, 0.81418767,\n",
       "       0.57482146, 0.54010308, 0.68909091, 0.0035678 , 0.32501411,\n",
       "       0.20239446, 0.66814181, 0.24348548, 0.49701562, 0.41558217,\n",
       "       0.57623467, 0.03144561, 0.66673646, 0.62773719, 0.03750126,\n",
       "       0.94580186, 0.07577474, 0.72118251, 0.20040067, 0.49429548])"
      ]
     },
     "execution_count": 7,
     "metadata": {},
     "output_type": "execute_result"
    }
   ],
   "source": [
    "sample1"
   ]
  },
  {
   "cell_type": "code",
   "execution_count": 8,
   "metadata": {},
   "outputs": [
    {
     "data": {
      "text/plain": [
       "array([ 0.22217429, -2.76565456, -2.19362458, -0.33319926, -0.52126525,\n",
       "        0.66845921,  0.174307  , -0.56213611, -1.64366456,  0.5857108 ,\n",
       "       -0.65471527, -0.31402931, -1.7168178 ,  0.12745011, -0.69795296,\n",
       "        0.64583299, -1.13988095,  1.24656052,  0.18113274, -0.73913573,\n",
       "        0.08303328, -0.41214629, -0.1243885 , -1.5463502 ,  0.51299208,\n",
       "        0.83161308, -0.27741058,  0.08251558, -0.48827081,  0.77178433,\n",
       "       -0.09310436,  0.40572914, -1.90615484,  0.15691326, -1.78809178,\n",
       "        1.00646524,  0.46335775,  0.07208972, -0.8542301 ,  1.1016416 ,\n",
       "       -0.44323201, -1.54234282, -0.07329968, -0.8273601 ,  0.22021712,\n",
       "       -1.26737175, -0.66351197, -1.59841176,  2.13405192,  0.07930481,\n",
       "       -1.05035115, -1.020334  , -0.31078643, -0.98758896, -1.81903959,\n",
       "       -0.54355221, -0.34559579,  0.84958326, -0.50059314,  1.09427332,\n",
       "       -0.16061009, -1.07654316,  2.41074474,  1.09496385,  1.35187847,\n",
       "       -0.65136067,  1.61021324,  0.13097849,  0.96486535, -0.2187382 ,\n",
       "        0.15295592,  1.7564032 ,  0.80120451,  2.2235447 , -1.54820922,\n",
       "       -0.7133804 ,  0.93127397,  0.365131  , -2.05686252,  0.83687515,\n",
       "       -0.03091401,  1.91828346,  0.69645151, -0.37684382,  0.02183942,\n",
       "        1.69567142,  0.10560742,  0.66103314, -0.5874258 ,  0.51787544,\n",
       "       -0.18720472, -0.18352777, -0.19655976, -0.594052  ,  0.80908667,\n",
       "       -0.63167959, -0.56627937,  1.31626146,  1.12318839, -0.61846714,\n",
       "        0.28556888, -0.69236802, -0.73051201,  1.76450638,  0.17220374,\n",
       "        0.85707439, -0.23201195, -0.66853523, -0.44174951, -1.8325766 ])"
      ]
     },
     "execution_count": 8,
     "metadata": {},
     "output_type": "execute_result"
    }
   ],
   "source": [
    "sample2"
   ]
  },
  {
   "cell_type": "code",
   "execution_count": 6,
   "metadata": {},
   "outputs": [
    {
     "data": {
      "text/plain": [
       "2.3423551125504076e-14"
      ]
     },
     "execution_count": 6,
     "metadata": {},
     "output_type": "execute_result"
    }
   ],
   "source": [
    "response.pvalue"
   ]
  },
  {
   "cell_type": "code",
   "execution_count": 9,
   "metadata": {},
   "outputs": [
    {
     "data": {
      "text/plain": [
       "KstestResult(statistic=0.5363636363636364, pvalue=2.3423551125504076e-14, statistic_location=-0.03091401431867575, statistic_sign=-1)"
      ]
     },
     "execution_count": 9,
     "metadata": {},
     "output_type": "execute_result"
    }
   ],
   "source": [
    "response"
   ]
  },
  {
   "cell_type": "code",
   "execution_count": 14,
   "metadata": {},
   "outputs": [
    {
     "data": {
      "text/plain": [
       "0.0"
      ]
     },
     "execution_count": 14,
     "metadata": {},
     "output_type": "execute_result"
    }
   ],
   "source": [
    "np.round(response.pvalue,13)"
   ]
  },
  {
   "cell_type": "code",
   "execution_count": 15,
   "metadata": {},
   "outputs": [],
   "source": [
    "## If p-value is greater than 0.05 then distributions are identical(Satisfies null hypothesis)\n",
    "## If p-value is less than 0.05 then distributions are not identical(Alternate hypothesis)\n",
    "\n",
    "## If p-value is less than 0.05, then we need to go for re-training our model"
   ]
  },
  {
   "cell_type": "code",
   "execution_count": 16,
   "metadata": {},
   "outputs": [
    {
     "data": {
      "text/plain": [
       "KstestResult(statistic=0.1318295739348371, pvalue=0.31549027714281025, statistic_location=0.8603005273812508, statistic_sign=-1)"
      ]
     },
     "execution_count": 16,
     "metadata": {},
     "output_type": "execute_result"
    }
   ],
   "source": [
    "sample1 = stats.norm.rvs(size=105, random_state=rng)\n",
    "sample2 = stats.norm.rvs(size=95, random_state=rng)\n",
    "stats.ks_2samp(sample1, sample2)"
   ]
  },
  {
   "cell_type": "code",
   "execution_count": null,
   "metadata": {},
   "outputs": [],
   "source": [
    "## Anamoly in dataset\n",
    "\n",
    "# 1. High Null value\n",
    "# 2. Missing columns\n",
    "# 3. Outlier\n",
    "# 4. Categorical:\n",
    "    ## Gender ---> Male, Female, Other\n",
    "\n",
    "\n",
    "## If distribution/relation of input and target gets changed during EDA and after model build in reality \n",
    "# --> CONCEPT DRIFT\n",
    "\n"
   ]
  },
  {
   "cell_type": "markdown",
   "metadata": {},
   "source": [
    "validation code for missing values drop"
   ]
  },
  {
   "cell_type": "code",
   "execution_count": 1,
   "metadata": {},
   "outputs": [],
   "source": [
    "import pandas as pd\n",
    "df = pd.read_csv(\"/config/workspace/artifact/03022023__122619/data_ingestion/dataset/train.csv\")"
   ]
  },
  {
   "cell_type": "code",
   "execution_count": 2,
   "metadata": {},
   "outputs": [
    {
     "data": {
      "text/html": [
       "<div>\n",
       "<style scoped>\n",
       "    .dataframe tbody tr th:only-of-type {\n",
       "        vertical-align: middle;\n",
       "    }\n",
       "\n",
       "    .dataframe tbody tr th {\n",
       "        vertical-align: top;\n",
       "    }\n",
       "\n",
       "    .dataframe thead th {\n",
       "        text-align: right;\n",
       "    }\n",
       "</style>\n",
       "<table border=\"1\" class=\"dataframe\">\n",
       "  <thead>\n",
       "    <tr style=\"text-align: right;\">\n",
       "      <th></th>\n",
       "      <th>class</th>\n",
       "      <th>aa_000</th>\n",
       "      <th>ab_000</th>\n",
       "      <th>ac_000</th>\n",
       "      <th>ad_000</th>\n",
       "      <th>ae_000</th>\n",
       "      <th>af_000</th>\n",
       "      <th>ag_000</th>\n",
       "      <th>ag_001</th>\n",
       "      <th>ag_002</th>\n",
       "      <th>...</th>\n",
       "      <th>ee_002</th>\n",
       "      <th>ee_003</th>\n",
       "      <th>ee_004</th>\n",
       "      <th>ee_005</th>\n",
       "      <th>ee_006</th>\n",
       "      <th>ee_007</th>\n",
       "      <th>ee_008</th>\n",
       "      <th>ee_009</th>\n",
       "      <th>ef_000</th>\n",
       "      <th>eg_000</th>\n",
       "    </tr>\n",
       "  </thead>\n",
       "  <tbody>\n",
       "    <tr>\n",
       "      <th>0</th>\n",
       "      <td>neg</td>\n",
       "      <td>4328</td>\n",
       "      <td>NaN</td>\n",
       "      <td>NaN</td>\n",
       "      <td>NaN</td>\n",
       "      <td>0.0</td>\n",
       "      <td>0.0</td>\n",
       "      <td>0.0</td>\n",
       "      <td>0.0</td>\n",
       "      <td>0.0</td>\n",
       "      <td>...</td>\n",
       "      <td>46022.0</td>\n",
       "      <td>22366.0</td>\n",
       "      <td>43402.0</td>\n",
       "      <td>30460.0</td>\n",
       "      <td>28844.0</td>\n",
       "      <td>13918.0</td>\n",
       "      <td>9172.0</td>\n",
       "      <td>0.0</td>\n",
       "      <td>0.0</td>\n",
       "      <td>0.0</td>\n",
       "    </tr>\n",
       "    <tr>\n",
       "      <th>1</th>\n",
       "      <td>neg</td>\n",
       "      <td>59518</td>\n",
       "      <td>NaN</td>\n",
       "      <td>1.890000e+03</td>\n",
       "      <td>1576.0</td>\n",
       "      <td>0.0</td>\n",
       "      <td>0.0</td>\n",
       "      <td>0.0</td>\n",
       "      <td>0.0</td>\n",
       "      <td>0.0</td>\n",
       "      <td>...</td>\n",
       "      <td>282584.0</td>\n",
       "      <td>123788.0</td>\n",
       "      <td>238756.0</td>\n",
       "      <td>261586.0</td>\n",
       "      <td>168116.0</td>\n",
       "      <td>139882.0</td>\n",
       "      <td>696942.0</td>\n",
       "      <td>354212.0</td>\n",
       "      <td>0.0</td>\n",
       "      <td>0.0</td>\n",
       "    </tr>\n",
       "    <tr>\n",
       "      <th>2</th>\n",
       "      <td>neg</td>\n",
       "      <td>22</td>\n",
       "      <td>0.0</td>\n",
       "      <td>2.800000e+01</td>\n",
       "      <td>20.0</td>\n",
       "      <td>0.0</td>\n",
       "      <td>0.0</td>\n",
       "      <td>0.0</td>\n",
       "      <td>0.0</td>\n",
       "      <td>0.0</td>\n",
       "      <td>...</td>\n",
       "      <td>138.0</td>\n",
       "      <td>68.0</td>\n",
       "      <td>368.0</td>\n",
       "      <td>154.0</td>\n",
       "      <td>0.0</td>\n",
       "      <td>0.0</td>\n",
       "      <td>0.0</td>\n",
       "      <td>0.0</td>\n",
       "      <td>0.0</td>\n",
       "      <td>0.0</td>\n",
       "    </tr>\n",
       "    <tr>\n",
       "      <th>3</th>\n",
       "      <td>neg</td>\n",
       "      <td>60740</td>\n",
       "      <td>NaN</td>\n",
       "      <td>1.384000e+03</td>\n",
       "      <td>1294.0</td>\n",
       "      <td>0.0</td>\n",
       "      <td>0.0</td>\n",
       "      <td>0.0</td>\n",
       "      <td>0.0</td>\n",
       "      <td>0.0</td>\n",
       "      <td>...</td>\n",
       "      <td>309166.0</td>\n",
       "      <td>151218.0</td>\n",
       "      <td>324492.0</td>\n",
       "      <td>337954.0</td>\n",
       "      <td>312466.0</td>\n",
       "      <td>255336.0</td>\n",
       "      <td>631344.0</td>\n",
       "      <td>87252.0</td>\n",
       "      <td>0.0</td>\n",
       "      <td>0.0</td>\n",
       "    </tr>\n",
       "    <tr>\n",
       "      <th>4</th>\n",
       "      <td>neg</td>\n",
       "      <td>38886</td>\n",
       "      <td>NaN</td>\n",
       "      <td>2.130706e+09</td>\n",
       "      <td>502.0</td>\n",
       "      <td>0.0</td>\n",
       "      <td>0.0</td>\n",
       "      <td>0.0</td>\n",
       "      <td>0.0</td>\n",
       "      <td>0.0</td>\n",
       "      <td>...</td>\n",
       "      <td>320488.0</td>\n",
       "      <td>137704.0</td>\n",
       "      <td>263186.0</td>\n",
       "      <td>239868.0</td>\n",
       "      <td>163238.0</td>\n",
       "      <td>119468.0</td>\n",
       "      <td>284172.0</td>\n",
       "      <td>45734.0</td>\n",
       "      <td>0.0</td>\n",
       "      <td>0.0</td>\n",
       "    </tr>\n",
       "  </tbody>\n",
       "</table>\n",
       "<p>5 rows × 171 columns</p>\n",
       "</div>"
      ],
      "text/plain": [
       "  class  aa_000  ab_000        ac_000  ad_000  ae_000  af_000  ag_000  ag_001  \\\n",
       "0   neg    4328     NaN           NaN     NaN     0.0     0.0     0.0     0.0   \n",
       "1   neg   59518     NaN  1.890000e+03  1576.0     0.0     0.0     0.0     0.0   \n",
       "2   neg      22     0.0  2.800000e+01    20.0     0.0     0.0     0.0     0.0   \n",
       "3   neg   60740     NaN  1.384000e+03  1294.0     0.0     0.0     0.0     0.0   \n",
       "4   neg   38886     NaN  2.130706e+09   502.0     0.0     0.0     0.0     0.0   \n",
       "\n",
       "   ag_002  ...    ee_002    ee_003    ee_004    ee_005    ee_006    ee_007  \\\n",
       "0     0.0  ...   46022.0   22366.0   43402.0   30460.0   28844.0   13918.0   \n",
       "1     0.0  ...  282584.0  123788.0  238756.0  261586.0  168116.0  139882.0   \n",
       "2     0.0  ...     138.0      68.0     368.0     154.0       0.0       0.0   \n",
       "3     0.0  ...  309166.0  151218.0  324492.0  337954.0  312466.0  255336.0   \n",
       "4     0.0  ...  320488.0  137704.0  263186.0  239868.0  163238.0  119468.0   \n",
       "\n",
       "     ee_008    ee_009  ef_000  eg_000  \n",
       "0    9172.0       0.0     0.0     0.0  \n",
       "1  696942.0  354212.0     0.0     0.0  \n",
       "2       0.0       0.0     0.0     0.0  \n",
       "3  631344.0   87252.0     0.0     0.0  \n",
       "4  284172.0   45734.0     0.0     0.0  \n",
       "\n",
       "[5 rows x 171 columns]"
      ]
     },
     "execution_count": 2,
     "metadata": {},
     "output_type": "execute_result"
    }
   ],
   "source": [
    "df.head()"
   ]
  },
  {
   "cell_type": "code",
   "execution_count": 7,
   "metadata": {},
   "outputs": [
    {
     "data": {
      "text/plain": [
       "class     0.00\n",
       "aa_000    0.00\n",
       "ab_000    0.77\n",
       "ac_000    0.06\n",
       "ad_000    0.25\n",
       "          ... \n",
       "ee_007    0.01\n",
       "ee_008    0.01\n",
       "ee_009    0.01\n",
       "ef_000    0.05\n",
       "eg_000    0.05\n",
       "Length: 171, dtype: float64"
      ]
     },
     "execution_count": 7,
     "metadata": {},
     "output_type": "execute_result"
    }
   ],
   "source": [
    "import numpy as np\n",
    "np.round(df.isnull().sum()/df.shape[0],2)"
   ]
  },
  {
   "cell_type": "code",
   "execution_count": 11,
   "metadata": {},
   "outputs": [
    {
     "data": {
      "text/plain": [
       "171"
      ]
     },
     "execution_count": 11,
     "metadata": {},
     "output_type": "execute_result"
    }
   ],
   "source": [
    "(df.isnull().sum()/df.shape[0]).values.__len__()"
   ]
  },
  {
   "cell_type": "code",
   "execution_count": 21,
   "metadata": {},
   "outputs": [
    {
     "name": "stdout",
     "output_type": "stream",
     "text": [
      "class 0.0\n",
      "aa_000 0.0\n",
      "ab_000 77.05\n",
      "ac_000 5.79\n",
      "ad_000 25.4\n",
      "ae_000 4.34\n",
      "af_000 4.34\n",
      "ag_000 1.05\n",
      "ag_001 1.05\n",
      "ag_002 1.05\n",
      "ag_003 1.05\n",
      "ag_004 1.05\n",
      "ag_005 1.05\n",
      "ag_006 1.05\n",
      "ag_007 1.05\n",
      "ag_008 1.05\n",
      "ag_009 1.05\n",
      "ah_000 1.08\n",
      "ai_000 1.03\n",
      "aj_000 1.03\n",
      "ak_000 7.56\n",
      "al_000 1.07\n",
      "am_0 1.03\n",
      "an_000 1.07\n",
      "ao_000 0.94\n",
      "ap_000 1.07\n",
      "aq_000 0.94\n",
      "ar_000 4.71\n",
      "as_000 1.03\n",
      "at_000 1.03\n",
      "au_000 1.03\n",
      "av_000 4.34\n",
      "ax_000 4.34\n",
      "ay_000 1.06\n",
      "ay_001 1.06\n",
      "ay_002 1.06\n",
      "ay_003 1.06\n",
      "ay_004 1.06\n",
      "ay_005 1.06\n",
      "ay_006 1.06\n",
      "ay_007 1.06\n",
      "ay_008 1.06\n",
      "ay_009 1.06\n",
      "az_000 1.06\n",
      "az_001 1.06\n",
      "az_002 1.06\n",
      "az_003 1.06\n",
      "az_004 1.06\n",
      "az_005 1.06\n",
      "az_006 1.06\n",
      "az_007 1.06\n",
      "az_008 1.06\n",
      "az_009 1.06\n",
      "ba_000 1.08\n",
      "ba_001 1.08\n",
      "ba_002 1.08\n",
      "ba_003 1.08\n",
      "ba_004 1.08\n",
      "ba_005 1.08\n",
      "ba_006 1.08\n",
      "ba_007 1.08\n",
      "ba_008 1.08\n",
      "ba_009 1.08\n",
      "bb_000 1.08\n",
      "bc_000 4.72\n",
      "bd_000 4.72\n",
      "be_000 4.34\n",
      "bf_000 4.34\n",
      "bg_000 1.07\n",
      "bh_000 1.07\n",
      "bi_000 0.94\n",
      "bj_000 0.94\n",
      "bk_000 38.28\n",
      "bl_000 45.14\n",
      "bm_000 65.65\n",
      "bn_000 72.96\n",
      "bo_000 76.76\n",
      "bp_000 79.03\n",
      "bq_000 80.73\n",
      "br_000 81.68\n",
      "bs_000 1.19\n",
      "bt_000 0.24\n",
      "bu_000 1.13\n",
      "bv_000 1.13\n",
      "bx_000 5.22\n",
      "by_000 0.76\n",
      "bz_000 4.71\n",
      "ca_000 7.49\n",
      "cb_000 1.19\n",
      "cc_000 5.22\n",
      "cd_000 1.12\n",
      "ce_000 4.34\n",
      "cf_000 25.4\n",
      "cg_000 25.4\n",
      "ch_000 25.4\n",
      "ci_000 0.56\n",
      "cj_000 0.56\n",
      "ck_000 0.56\n",
      "cl_000 15.87\n",
      "cm_000 16.44\n",
      "cn_000 1.08\n",
      "cn_001 1.08\n",
      "cn_002 1.08\n",
      "cn_003 1.08\n",
      "cn_004 1.08\n",
      "cn_005 1.08\n",
      "cn_006 1.08\n",
      "cn_007 1.08\n",
      "cn_008 1.08\n",
      "cn_009 1.08\n",
      "co_000 25.4\n",
      "cp_000 4.71\n",
      "cq_000 1.13\n",
      "cr_000 77.05\n",
      "cs_000 1.05\n",
      "cs_001 1.05\n",
      "cs_002 1.05\n",
      "cs_003 1.05\n",
      "cs_004 1.05\n",
      "cs_005 1.05\n",
      "cs_006 1.05\n",
      "cs_007 1.05\n",
      "cs_008 1.05\n",
      "cs_009 1.05\n",
      "ct_000 23.55\n",
      "cu_000 23.55\n",
      "cv_000 23.55\n",
      "cx_000 23.55\n",
      "cy_000 23.55\n",
      "cz_000 23.55\n",
      "da_000 23.55\n",
      "db_000 23.55\n",
      "dc_000 23.55\n",
      "dd_000 4.34\n",
      "de_000 4.71\n",
      "df_000 6.92\n",
      "dg_000 6.92\n",
      "dh_000 6.91\n",
      "di_000 6.91\n",
      "dj_000 6.91\n",
      "dk_000 6.92\n",
      "dl_000 6.91\n",
      "dm_000 6.92\n",
      "dn_000 1.13\n",
      "do_000 4.72\n",
      "dp_000 4.72\n",
      "dq_000 4.72\n",
      "dr_000 4.72\n",
      "ds_000 4.72\n",
      "dt_000 4.72\n",
      "du_000 4.72\n",
      "dv_000 4.72\n",
      "dx_000 4.71\n",
      "dy_000 4.71\n",
      "dz_000 4.71\n",
      "ea_000 4.71\n",
      "eb_000 6.91\n",
      "ec_00 17.06\n",
      "ed_000 15.87\n",
      "ee_000 1.06\n",
      "ee_001 1.06\n",
      "ee_002 1.06\n",
      "ee_003 1.06\n",
      "ee_004 1.06\n",
      "ee_005 1.06\n",
      "ee_006 1.06\n",
      "ee_007 1.06\n",
      "ee_008 1.06\n",
      "ee_009 1.06\n",
      "ef_000 4.71\n",
      "eg_000 4.71\n"
     ]
    }
   ],
   "source": [
    "drop_column_names = []\n",
    "for column_name, missing_percentage in zip((df.isnull().sum()/df.shape[0]).index ,(df.isnull().sum()/df.shape[0]).values):\n",
    "    print(column_name, np.round(missing_percentage*100,2))\n",
    "    if missing_percentage>0.30:\n",
    "        drop_column_names.append(column_name)"
   ]
  },
  {
   "cell_type": "code",
   "execution_count": 22,
   "metadata": {},
   "outputs": [
    {
     "data": {
      "text/plain": [
       "['ab_000',\n",
       " 'bk_000',\n",
       " 'bl_000',\n",
       " 'bm_000',\n",
       " 'bn_000',\n",
       " 'bo_000',\n",
       " 'bp_000',\n",
       " 'bq_000',\n",
       " 'br_000',\n",
       " 'cr_000']"
      ]
     },
     "execution_count": 22,
     "metadata": {},
     "output_type": "execute_result"
    }
   ],
   "source": [
    "drop_column_names"
   ]
  },
  {
   "cell_type": "code",
   "execution_count": 25,
   "metadata": {},
   "outputs": [],
   "source": [
    "null_report = df.isna().sum()/df.shape[0]"
   ]
  },
  {
   "cell_type": "code",
   "execution_count": 27,
   "metadata": {},
   "outputs": [
    {
     "data": {
      "text/plain": [
       "ab_000    0.770532\n",
       "bk_000    0.382816\n",
       "bl_000    0.451420\n",
       "bm_000    0.656498\n",
       "bn_000    0.729634\n",
       "bo_000    0.767584\n",
       "bp_000    0.790280\n",
       "bq_000    0.807303\n",
       "br_000    0.816772\n",
       "cr_000    0.770532\n",
       "dtype: float64"
      ]
     },
     "execution_count": 27,
     "metadata": {},
     "output_type": "execute_result"
    }
   ],
   "source": [
    "null_report[null_report > 0.30]"
   ]
  },
  {
   "cell_type": "code",
   "execution_count": 28,
   "metadata": {},
   "outputs": [
    {
     "data": {
      "text/plain": [
       "Index(['ab_000', 'bk_000', 'bl_000', 'bm_000', 'bn_000', 'bo_000', 'bp_000',\n",
       "       'bq_000', 'br_000', 'cr_000'],\n",
       "      dtype='object')"
      ]
     },
     "execution_count": 28,
     "metadata": {},
     "output_type": "execute_result"
    }
   ],
   "source": [
    "null_report[null_report > 0.30].index"
   ]
  },
  {
   "cell_type": "code",
   "execution_count": 33,
   "metadata": {},
   "outputs": [
    {
     "data": {
      "text/html": [
       "<div>\n",
       "<style scoped>\n",
       "    .dataframe tbody tr th:only-of-type {\n",
       "        vertical-align: middle;\n",
       "    }\n",
       "\n",
       "    .dataframe tbody tr th {\n",
       "        vertical-align: top;\n",
       "    }\n",
       "\n",
       "    .dataframe thead th {\n",
       "        text-align: right;\n",
       "    }\n",
       "</style>\n",
       "<table border=\"1\" class=\"dataframe\">\n",
       "  <thead>\n",
       "    <tr style=\"text-align: right;\">\n",
       "      <th></th>\n",
       "    </tr>\n",
       "  </thead>\n",
       "  <tbody>\n",
       "    <tr>\n",
       "      <th>0</th>\n",
       "    </tr>\n",
       "    <tr>\n",
       "      <th>1</th>\n",
       "    </tr>\n",
       "    <tr>\n",
       "      <th>2</th>\n",
       "    </tr>\n",
       "    <tr>\n",
       "      <th>3</th>\n",
       "    </tr>\n",
       "    <tr>\n",
       "      <th>4</th>\n",
       "    </tr>\n",
       "    <tr>\n",
       "      <th>...</th>\n",
       "    </tr>\n",
       "    <tr>\n",
       "      <th>27136</th>\n",
       "    </tr>\n",
       "    <tr>\n",
       "      <th>27137</th>\n",
       "    </tr>\n",
       "    <tr>\n",
       "      <th>27138</th>\n",
       "    </tr>\n",
       "    <tr>\n",
       "      <th>27139</th>\n",
       "    </tr>\n",
       "    <tr>\n",
       "      <th>27140</th>\n",
       "    </tr>\n",
       "  </tbody>\n",
       "</table>\n",
       "<p>27141 rows × 0 columns</p>\n",
       "</div>"
      ],
      "text/plain": [
       "Empty DataFrame\n",
       "Columns: []\n",
       "Index: [0, 1, 2, 3, 4, 5, 6, 7, 8, 9, 10, 11, 12, 13, 14, 15, 16, 17, 18, 19, 20, 21, 22, 23, 24, 25, 26, 27, 28, 29, 30, 31, 32, 33, 34, 35, 36, 37, 38, 39, 40, 41, 42, 43, 44, 45, 46, 47, 48, 49, 50, 51, 52, 53, 54, 55, 56, 57, 58, 59, 60, 61, 62, 63, 64, 65, 66, 67, 68, 69, 70, 71, 72, 73, 74, 75, 76, 77, 78, 79, 80, 81, 82, 83, 84, 85, 86, 87, 88, 89, 90, 91, 92, 93, 94, 95, 96, 97, 98, 99, ...]\n",
       "\n",
       "[27141 rows x 0 columns]"
      ]
     },
     "execution_count": 33,
     "metadata": {},
     "output_type": "execute_result"
    }
   ],
   "source": [
    "df.iloc[:,[0]].drop('class',axis=1)"
   ]
  },
  {
   "cell_type": "code",
   "execution_count": 34,
   "metadata": {},
   "outputs": [
    {
     "data": {
      "text/plain": [
       "0"
      ]
     },
     "execution_count": 34,
     "metadata": {},
     "output_type": "execute_result"
    }
   ],
   "source": [
    "len(df.iloc[:,[0]].drop('class',axis=1).columns)"
   ]
  },
  {
   "cell_type": "code",
   "execution_count": null,
   "metadata": {},
   "outputs": [],
   "source": []
  },
  {
   "cell_type": "code",
   "execution_count": 18,
   "metadata": {},
   "outputs": [
    {
     "name": "stdout",
     "output_type": "stream",
     "text": [
      "1 4\n",
      "2 5\n",
      "3 6\n",
      "4 7\n"
     ]
    }
   ],
   "source": [
    "## Example for zip:\n",
    "\n",
    "l1 = [1,2,3,4]\n",
    "l2 = [4,5,6,7]\n",
    "\n",
    "for l1_val, l2_val in zip(l1,l2):\n",
    "    print(l1_val, l2_val)"
   ]
  },
  {
   "cell_type": "code",
   "execution_count": null,
   "metadata": {},
   "outputs": [],
   "source": []
  }
 ],
 "metadata": {
  "kernelspec": {
   "display_name": "Python 3.8.10 64-bit",
   "language": "python",
   "name": "python3"
  },
  "language_info": {
   "codemirror_mode": {
    "name": "ipython",
    "version": 3
   },
   "file_extension": ".py",
   "mimetype": "text/x-python",
   "name": "python",
   "nbconvert_exporter": "python",
   "pygments_lexer": "ipython3",
   "version": "3.8.10"
  },
  "orig_nbformat": 4,
  "vscode": {
   "interpreter": {
    "hash": "e7370f93d1d0cde622a1f8e1c04877d8463912d04d973331ad4851f04de6915a"
   }
  }
 },
 "nbformat": 4,
 "nbformat_minor": 2
}
